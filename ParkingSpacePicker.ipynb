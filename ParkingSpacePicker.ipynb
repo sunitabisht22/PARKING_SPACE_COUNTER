{
 "cells": [
  {
   "cell_type": "markdown",
   "id": "010b29d4",
   "metadata": {},
   "source": [
    "# ParkingSpacePicker"
   ]
  },
  {
   "cell_type": "code",
   "execution_count": 7,
   "id": "3a742182",
   "metadata": {},
   "outputs": [],
   "source": [
    "import cv2\n",
    "import pickle"
   ]
  },
  {
   "cell_type": "code",
   "execution_count": 8,
   "id": "1dc06fc7",
   "metadata": {},
   "outputs": [],
   "source": [
    "width, height = 107, 48\n"
   ]
  },
  {
   "cell_type": "code",
   "execution_count": 9,
   "id": "4b780fe7",
   "metadata": {},
   "outputs": [],
   "source": [
    "try:\n",
    "    with open('CarParkPos', 'rb') as f:\n",
    "        posList = pickle.load(f)\n",
    "except:\n",
    "    posList = []\n"
   ]
  },
  {
   "cell_type": "code",
   "execution_count": 10,
   "id": "af1f7c1e",
   "metadata": {},
   "outputs": [],
   "source": [
    "def mouseClick(events, x, y, flags, params):\n",
    "    if events == cv2.EVENT_LBUTTONDOWN:\n",
    "        posList.append((x, y))\n",
    "    if events == cv2.EVENT_RBUTTONDOWN:\n",
    "        for i, pos in enumerate(posList):\n",
    "            x1, y1 = pos\n",
    "            if x1 < x < x1 + width and y1 < y < y1 + height:\n",
    "                posList.pop(i)\n",
    "\n",
    "    with open('CarParkPos', 'wb') as f:\n",
    "        pickle.dump(posList, f)\n"
   ]
  },
  {
   "cell_type": "code",
   "execution_count": 11,
   "id": "50b3cf25",
   "metadata": {},
   "outputs": [],
   "source": [
    "while True:\n",
    "    img = cv2.imread('carParkImg.png')\n",
    "    for pos in posList:\n",
    "        cv2.rectangle(img, pos, (pos[0] + width, pos[1] + height), (255, 0, 255), 2)\n",
    "\n",
    "    cv2.imshow(\"Image\", img)\n",
    "    cv2.setMouseCallback(\"Image\", mouseClick)\n",
    "    if cv2.waitKey(1) == 27:\n",
    "        break\n"
   ]
  },
  {
   "cell_type": "code",
   "execution_count": 12,
   "id": "a15d52e7",
   "metadata": {},
   "outputs": [],
   "source": [
    " cv2.destroyAllWindows()"
   ]
  }
 ],
 "metadata": {
  "kernelspec": {
   "display_name": "Python 3 (ipykernel)",
   "language": "python",
   "name": "python3"
  },
  "language_info": {
   "codemirror_mode": {
    "name": "ipython",
    "version": 3
   },
   "file_extension": ".py",
   "mimetype": "text/x-python",
   "name": "python",
   "nbconvert_exporter": "python",
   "pygments_lexer": "ipython3",
   "version": "3.9.13"
  }
 },
 "nbformat": 4,
 "nbformat_minor": 5
}
