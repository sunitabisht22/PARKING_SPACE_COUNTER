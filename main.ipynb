{
 "cells": [
  {
   "cell_type": "markdown",
   "id": "330b2a6d",
   "metadata": {},
   "source": [
    "# Main Code"
   ]
  },
  {
   "cell_type": "code",
   "execution_count": 8,
   "id": "d8b65c3e",
   "metadata": {},
   "outputs": [],
   "source": [
    "import cv2\n",
    "import pickle\n",
    "import cvzone \n",
    "import numpy as np"
   ]
  },
  {
   "cell_type": "code",
   "execution_count": 9,
   "id": "3c6779fa",
   "metadata": {},
   "outputs": [],
   "source": [
    "# Video feed\n",
    "cap = cv2.VideoCapture('carPark.mp4')\n"
   ]
  },
  {
   "cell_type": "code",
   "execution_count": 10,
   "id": "413e3e44",
   "metadata": {},
   "outputs": [],
   "source": [
    "with open('CarParkPos', 'rb') as f:\n",
    "    posList = pickle.load(f)"
   ]
  },
  {
   "cell_type": "code",
   "execution_count": 11,
   "id": "62093e47",
   "metadata": {},
   "outputs": [],
   "source": [
    "width, height = 107, 48"
   ]
  },
  {
   "cell_type": "code",
   "execution_count": 12,
   "id": "09e289e4",
   "metadata": {},
   "outputs": [],
   "source": [
    "def checkParkingSpace(imgPro):\n",
    "    spaceCounter = 0\n",
    "\n",
    "    for pos in posList:\n",
    "        x, y = pos\n",
    "\n",
    "        imgCrop = imgPro[y:y + height, x:x + width]\n",
    "        # cv2.imshow(str(x * y), imgCrop)\n",
    "        count = cv2.countNonZero(imgCrop)\n",
    "\n",
    "\n",
    "        if count < 900:\n",
    "            color = (0, 255, 0)\n",
    "            thickness = 5\n",
    "            spaceCounter += 1\n",
    "        else:\n",
    "            color = (0, 0, 255)\n",
    "            thickness = 2\n",
    "\n",
    "        cv2.rectangle(img, pos, (pos[0] + width, pos[1] + height), color, thickness)\n",
    "        cvzone.putTextRect(img, str(count), (x, y + height - 3), scale=1,\n",
    "                           thickness=2, offset=0, colorR=color)\n",
    "\n",
    "    cvzone.putTextRect(img, f'Free: {spaceCounter}/{len(posList)}', (100, 50), scale=3,\n",
    "                           thickness=5, offset=20, colorR=(0,200,0))"
   ]
  },
  {
   "cell_type": "code",
   "execution_count": null,
   "id": "bd7d52eb",
   "metadata": {},
   "outputs": [],
   "source": [
    "while True:\n",
    "\n",
    "    if cap.get(cv2.CAP_PROP_POS_FRAMES) == cap.get(cv2.CAP_PROP_FRAME_COUNT):\n",
    "        cap.set(cv2.CAP_PROP_POS_FRAMES, 0)\n",
    "    success, img = cap.read()\n",
    "    imgGray = cv2.cvtColor(img, cv2.COLOR_BGR2GRAY)\n",
    "    imgBlur = cv2.GaussianBlur(imgGray, (3, 3), 1)\n",
    "    imgThreshold = cv2.adaptiveThreshold(imgBlur, 255, cv2.ADAPTIVE_THRESH_GAUSSIAN_C,\n",
    "                                         cv2.THRESH_BINARY_INV, 25, 16)\n",
    "    imgMedian = cv2.medianBlur(imgThreshold, 5)\n",
    "    kernel = np.ones((3, 3), np.uint8)\n",
    "    imgDilate = cv2.dilate(imgMedian, kernel, iterations=1)\n",
    "\n",
    "    checkParkingSpace(imgDilate)\n",
    "    cv2.imshow(\"Image\", img)\n",
    "    # cv2.imshow(\"ImageBlur\", imgBlur)\n",
    "    # cv2.imshow(\"ImageThres\", imgMedian)\n",
    "    if cv2.waitKey(1) & 0xFF == ord('q'):\n",
    "        break"
   ]
  },
  {
   "cell_type": "code",
   "execution_count": null,
   "id": "5fce2f3f",
   "metadata": {},
   "outputs": [],
   "source": [
    "cv2.destroyAllWindows()"
   ]
  }
 ],
 "metadata": {
  "kernelspec": {
   "display_name": "Python 3 (ipykernel)",
   "language": "python",
   "name": "python3"
  },
  "language_info": {
   "codemirror_mode": {
    "name": "ipython",
    "version": 3
   },
   "file_extension": ".py",
   "mimetype": "text/x-python",
   "name": "python",
   "nbconvert_exporter": "python",
   "pygments_lexer": "ipython3",
   "version": "3.9.13"
  }
 },
 "nbformat": 4,
 "nbformat_minor": 5
}
